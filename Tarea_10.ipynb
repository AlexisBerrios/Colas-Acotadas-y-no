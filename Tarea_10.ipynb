{
  "nbformat": 4,
  "nbformat_minor": 0,
  "metadata": {
    "colab": {
      "name": "Tarea 10.ipynb",
      "provenance": []
    },
    "kernelspec": {
      "display_name": "Python 3",
      "name": "python3"
    },
    "language_info": {
      "name": "python"
    }
  },
  "cells": [
    {
      "cell_type": "code",
      "metadata": {
        "id": "1cQoG_ENGEMT"
      },
      "source": [
        "\"\"\"\n",
        "Tarea 10\n",
        "Implementar la estructura de datos \"Colas de Prioridad acotadas y no acotadas\", \n",
        "para dar solución al ejercicio que esta en la diapositivas que se encuentran en el tablón.\n",
        "\"\"\" \n",
        "class Queue:\n",
        "    def __init__( self ):\n",
        "        self.data =[]\n",
        "\n",
        "    def is_empty( self):\n",
        "        return len(self.data)==0  \n",
        "    \n",
        "    def enqueue( self, value ):\n",
        "        self.data.append(value)\n",
        "    \n",
        "    def dequeue( self):\n",
        "        return self.data.pop()\n",
        "    \n",
        "    def length( self):\n",
        "        return len(self.data)\n",
        "    \n",
        "    def to_string( self):\n",
        "        for elem in self.data:\n",
        "            print(f'|{ elem }| <-- ', end=\"\")\n",
        "        print(\"\\n\")"
      ],
      "execution_count": 183,
      "outputs": []
    },
    {
      "cell_type": "code",
      "metadata": {
        "id": "Ry3I-zQJF5bW"
      },
      "source": [
        "\n",
        "class PriorityQueue:\n",
        "    def __init__(self):\n",
        "        self.data=[]\n",
        "        self.index=[]\n",
        "    \n",
        "    def is_empty(self):\n",
        "        return len(self.data)==0 \n",
        "    \n",
        "    def length(self):\n",
        "        return len(self.data)\n",
        "\n",
        "    def enqueue(self,prioridad,elem):\n",
        "        if len(self.data)==0:\n",
        "            self.data.append(elem)\n",
        "            self.index.append(prioridad)\n",
        "        elif prioridad>=self.index[-1]:\n",
        "            self.data.append(elem)\n",
        "            self.index.append(prioridad)\n",
        "        else:\n",
        "            cont=0\n",
        "            for elemento in self.index:\n",
        "                if prioridad>=elemento:\n",
        "                    cont+=1\n",
        "            self.data.insert(cont, elem)\n",
        "            self.index.insert(cont, prioridad)\n",
        "\n",
        "    def dequeue(self):\n",
        "        eliminar=self.index.pop(0)\n",
        "        return self.data.pop(0)\n",
        "    \n",
        "    def to_string(self):\n",
        "        cont=0\n",
        "        for elem in self.data:\n",
        "            print(f'|{self.index[cont], elem}|<--', end=\"\")\n",
        "            cont+=1\n",
        "        print(\"\\n\")"
      ],
      "execution_count": 184,
      "outputs": []
    },
    {
      "cell_type": "code",
      "metadata": {
        "id": "6czquDhNGHHJ"
      },
      "source": [
        "class BoundedPriorityQueue:\n",
        "    def __init__(self, niveles):\n",
        "        self.data=[Queue()for x in range(niveles)]\n",
        "        self.tamaño=0\n",
        "    \n",
        "    def is_empty(self):\n",
        "        return self.tamaño ==0\n",
        "    \n",
        "    def length(self):\n",
        "        return self.tamaño\n",
        "\n",
        "    def enqueue(self, prioridad, elem):\n",
        "        if prioridad<len(self.data) and prioridad >=0:\n",
        "            self.data[prioridad].enqueue(elem)\n",
        "            self.tamaño+=1\n",
        "        else:\n",
        "            print(f'Se encuentra fuera del rango |{prioridad},{elem}| por lo tanto no se puede encolar')\n",
        "    \n",
        "    def dequeue(self):\n",
        "        if self.is_empty():\n",
        "            print(\"cola vacia, soin elementos\")\n",
        "        else:\n",
        "            cont = len(self.data)-1\n",
        "            while cont>=0:\n",
        "                if self.data[cont].is_empty():\n",
        "                    cont-=1\n",
        "                else:\n",
        "                    break\n",
        "            self.tamaño-=1\n",
        "            return self.data[cont].dequeue()\n",
        "\n",
        "    def to_string(self):\n",
        "        for index in range(len(self.data)):\n",
        "            if self.data[index].is_empty():\n",
        "                pass\n",
        "            else:\n",
        "                self.data[index].to_string()\n",
        "        print(\"\")"
      ],
      "execution_count": 187,
      "outputs": []
    },
    {
      "cell_type": "code",
      "metadata": {
        "colab": {
          "base_uri": "https://localhost:8080/"
        },
        "id": "Fl235v71GAXa",
        "outputId": "b437b1e8-12ed-4ed2-a0d1-465f3475df8d"
      },
      "source": [
        "cola = PriorityQueue()\n",
        "print(\"¿Esta vacío?: \", cola.is_empty())\n",
        "print(\"Número de elementos= \", cola.length())\n",
        "cola.enqueue(4,\"Maestro\")\n",
        "cola.enqueue(2,\"Niños\")\n",
        "cola.enqueue(4,\"Mecánico\")\n",
        "cola.enqueue(3,\"Hombres\")\n",
        "cola.enqueue(4,\"Vigia\")\n",
        "cola.enqueue(5,\"Capitán\")\n",
        "cola.enqueue(4,\"Timonel\")\n",
        "cola.enqueue(3,\"Mujeres\")\n",
        "cola.enqueue(2,\"3ra Edad\")\n",
        "cola.enqueue(1,\"Niñas\")\n",
        "print(\"Esta vacío?: \", cola.is_empty())\n",
        "print(\"Número de elementos= \", cola.length())\n",
        "cola.to_string()\n",
        "cola.dequeue()\n",
        "cola.to_string()"
      ],
      "execution_count": 192,
      "outputs": [
        {
          "output_type": "stream",
          "name": "stdout",
          "text": [
            "¿Esta vacío?:  True\n",
            "Número de elementos=  0\n",
            "Esta vacío?:  False\n",
            "Número de elementos=  10\n",
            "|(1, 'Niñas')|<--|(2, 'Niños')|<--|(2, '3ra Edad')|<--|(3, 'Hombres')|<--|(3, 'Mujeres')|<--|(4, 'Maestro')|<--|(4, 'Mecánico')|<--|(4, 'Vigia')|<--|(4, 'Timonel')|<--|(5, 'Capitán')|<--\n",
            "\n",
            "|(2, 'Niños')|<--|(2, '3ra Edad')|<--|(3, 'Hombres')|<--|(3, 'Mujeres')|<--|(4, 'Maestro')|<--|(4, 'Mecánico')|<--|(4, 'Vigia')|<--|(4, 'Timonel')|<--|(5, 'Capitán')|<--\n",
            "\n"
          ]
        }
      ]
    },
    {
      "cell_type": "code",
      "metadata": {
        "colab": {
          "base_uri": "https://localhost:8080/"
        },
        "id": "5Pj9ByRlGKFY",
        "outputId": "5e202e06-f737-47ba-a97e-c3a19ca829cc"
      },
      "source": [
        "cola = BoundedPriorityQueue(7) # 0 - 6\n",
        "print(\"¿Esta vacío?: \", cola.is_empty())\n",
        "print(\"Número de elementos= \", cola.length())\n",
        "cola.enqueue(4,\"Maestro\")\n",
        "cola.enqueue(2,\"Niños\")\n",
        "cola.enqueue(4,\"Mecánico\")\n",
        "cola.enqueue(3,\"Hombres\")\n",
        "cola.enqueue(4,\"Vigia\")\n",
        "cola.enqueue(5,\"Capitán\")\n",
        "cola.enqueue(4,\"Timonel\")\n",
        "cola.enqueue(3,\"Mujeres\")\n",
        "cola.enqueue(2,\"3ra Edad\")\n",
        "cola.enqueue(1,\"Niñas\")\n",
        "print(\"Número de elementos= \",cola.length())\n",
        "print(\"Esta vacío?: \",cola.is_empty())\n",
        "cola.to_string()\n",
        "print(cola.dequeue())\n",
        "cola.to_string()\n",
        "print(\"Número de elementos= \",cola.length())"
      ],
      "execution_count": 198,
      "outputs": [
        {
          "output_type": "stream",
          "name": "stdout",
          "text": [
            "¿Esta vacío?:  True\n",
            "Número de elementos=  0\n",
            "Número de elementos=  10\n",
            "Esta vacío?:  False\n",
            "|Niñas| <-- \n",
            "\n",
            "|Niños| <-- |3ra Edad| <-- \n",
            "\n",
            "|Hombres| <-- |Mujeres| <-- \n",
            "\n",
            "|Maestro| <-- |Mecánico| <-- |Vigia| <-- |Timonel| <-- \n",
            "\n",
            "|Capitán| <-- \n",
            "\n",
            "\n",
            "Capitán\n",
            "|Niñas| <-- \n",
            "\n",
            "|Niños| <-- |3ra Edad| <-- \n",
            "\n",
            "|Hombres| <-- |Mujeres| <-- \n",
            "\n",
            "|Maestro| <-- |Mecánico| <-- |Vigia| <-- |Timonel| <-- \n",
            "\n",
            "\n",
            "Número de elementos=  9\n"
          ]
        }
      ]
    }
  ]
}